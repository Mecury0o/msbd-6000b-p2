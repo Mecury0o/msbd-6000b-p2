{
 "cells": [
  {
   "cell_type": "code",
   "execution_count": 2,
   "metadata": {
    "collapsed": true
   },
   "outputs": [],
   "source": [
    "from skimage import io,transform\n",
    "import glob\n",
    "import os\n",
    "import tensorflow as tf\n",
    "import numpy as np\n",
    "import time\n",
    "# path='flower_photos'\n",
    "#the min image size\n",
    "w=100\n",
    "h=100\n",
    "c=3"
   ]
  },
  {
   "cell_type": "code",
   "execution_count": 3,
   "metadata": {},
   "outputs": [
    {
     "name": "stderr",
     "output_type": "stream",
     "text": [
      "D:\\ProgramData\\Anaconda3\\lib\\site-packages\\skimage\\transform\\_warps.py:84: UserWarning: The default mode, 'constant', will be changed to 'reflect' in skimage 0.15.\n",
      "  warn(\"The default mode, 'constant', will be changed to 'reflect' in \"\n"
     ]
    }
   ],
   "source": [
    "f_train=open('train.txt')\n",
    "content=f_train.readlines()\n",
    "train_imgs=[]\n",
    "train_label=[]\n",
    "for i in content:\n",
    "    [train_path,label]=i.split()\n",
    "#     print(\"reading the image:\",train_path)\n",
    "    im=io.imread(train_path)\n",
    "    im=transform.resize(im,(w,h))\n",
    "    train_imgs.append(im)\n",
    "    train_label.append(label)\n",
    "    "
   ]
  },
  {
   "cell_type": "code",
   "execution_count": 4,
   "metadata": {},
   "outputs": [
    {
     "name": "stderr",
     "output_type": "stream",
     "text": [
      "D:\\ProgramData\\Anaconda3\\lib\\site-packages\\skimage\\transform\\_warps.py:84: UserWarning: The default mode, 'constant', will be changed to 'reflect' in skimage 0.15.\n",
      "  warn(\"The default mode, 'constant', will be changed to 'reflect' in \"\n"
     ]
    }
   ],
   "source": [
    "f_val=open(\"val.txt\")\n",
    "content=f_val.readlines()\n",
    "val_imgs=[]\n",
    "val_label=[]\n",
    "for i in content:\n",
    "    [path,label]=i.split()\n",
    "#     print(\"reading the image:\",train_path)\n",
    "    im=io.imread(path)\n",
    "    im=transform.resize(im,(w,h))\n",
    "    val_imgs.append(im)\n",
    "    val_label.append(label)\n",
    "    "
   ]
  },
  {
   "cell_type": "code",
   "execution_count": 5,
   "metadata": {},
   "outputs": [
    {
     "name": "stderr",
     "output_type": "stream",
     "text": [
      "D:\\ProgramData\\Anaconda3\\lib\\site-packages\\skimage\\transform\\_warps.py:84: UserWarning: The default mode, 'constant', will be changed to 'reflect' in skimage 0.15.\n",
      "  warn(\"The default mode, 'constant', will be changed to 'reflect' in \"\n"
     ]
    }
   ],
   "source": [
    "f_test=open('test.txt')\n",
    "content=f_test.readlines()\n",
    "test_imgs=[]\n",
    "for i in content:\n",
    "    i=i.strip('\\n')\n",
    "    im=io.imread(i)\n",
    "    im=transform.resize(im,(w,h))\n",
    "    test_imgs.append(im)\n",
    "    "
   ]
  },
  {
   "cell_type": "code",
   "execution_count": 6,
   "metadata": {
    "collapsed": true
   },
   "outputs": [],
   "source": [
    "f_testlabel=open('test_label.txt')\n",
    "content=f_testlabel.readlines()\n",
    "test_label=[]\n",
    "for i in content:\n",
    "    i=i.strip('\\n')\n",
    "    test_label.append(i)\n",
    "# print(test_label)   "
   ]
  },
  {
   "cell_type": "code",
   "execution_count": 7,
   "metadata": {},
   "outputs": [
    {
     "name": "stderr",
     "output_type": "stream",
     "text": [
      "Using TensorFlow backend.\n"
     ]
    }
   ],
   "source": [
    "from keras.models import Sequential\n",
    "from keras.layers import Dense,Dropout,Activation,Flatten\n",
    "from keras.layers import Conv2D,MaxPooling2D\n",
    "import keras"
   ]
  },
  {
   "cell_type": "code",
   "execution_count": 8,
   "metadata": {
    "collapsed": true
   },
   "outputs": [],
   "source": [
    "from numpy import array\n",
    "x_train=train_imgs\n",
    "x_train=array(x_train)\n",
    "x_train=x_train.astype('float32')\n",
    "y_train=train_label\n",
    "x_val=array(val_imgs)\n",
    "x_val=x_val.astype('float32')\n",
    "y_val=val_label\n",
    "x_test=array(test_imgs)\n",
    "x_test=x_test.astype('float32')\n",
    "y_test=test_label"
   ]
  },
  {
   "cell_type": "code",
   "execution_count": 9,
   "metadata": {
    "collapsed": true
   },
   "outputs": [],
   "source": [
    "y_test=keras.utils.to_categorical(y_test,5)\n",
    "y_train=keras.utils.to_categorical(y_train,5)\n",
    "y_val=keras.utils.to_categorical(y_val,5)"
   ]
  },
  {
   "cell_type": "code",
   "execution_count": 10,
   "metadata": {
    "collapsed": true
   },
   "outputs": [],
   "source": [
    "input_shape=[w,h,3]"
   ]
  },
  {
   "cell_type": "markdown",
   "metadata": {},
   "source": [
    "# model 1"
   ]
  },
  {
   "cell_type": "code",
   "execution_count": 53,
   "metadata": {
    "collapsed": true
   },
   "outputs": [],
   "source": [
    "model=Sequential()\n",
    "model.add(Conv2D(32, (3, 3), padding='same', input_shape=input_shape))\n",
    "model.add(Activation('relu'))\n",
    "model.add(MaxPooling2D(pool_size=(2,2)))\n"
   ]
  },
  {
   "cell_type": "code",
   "execution_count": 54,
   "metadata": {
    "collapsed": true
   },
   "outputs": [],
   "source": [
    "\n",
    "model.add(Conv2D(64, (3, 3), padding='same'))  \n",
    "model.add(Activation('relu'))  \n",
    "model.add(MaxPooling2D(pool_size=(2,2)))"
   ]
  },
  {
   "cell_type": "code",
   "execution_count": 55,
   "metadata": {
    "collapsed": true
   },
   "outputs": [],
   "source": [
    "model.add(Conv2D(64, (3, 3), padding='same'))  \n",
    "model.add(Activation('relu'))  \n",
    "model.add(MaxPooling2D(pool_size=(2,2)))"
   ]
  },
  {
   "cell_type": "code",
   "execution_count": 56,
   "metadata": {
    "collapsed": true
   },
   "outputs": [],
   "source": [
    "model.add(Flatten())  \n",
    "model.add(Dense(64))  \n",
    "model.add(Activation('relu'))  \n",
    "model.add(Dropout(0.5))\n",
    "\n",
    "model.add(Dense(5))  \n",
    "model.add(Activation('softmax'))\n"
   ]
  },
  {
   "cell_type": "code",
   "execution_count": 57,
   "metadata": {},
   "outputs": [
    {
     "name": "stdout",
     "output_type": "stream",
     "text": [
      "_________________________________________________________________\n",
      "Layer (type)                 Output Shape              Param #   \n",
      "=================================================================\n",
      "conv2d_11 (Conv2D)           (None, 100, 100, 32)      896       \n",
      "_________________________________________________________________\n",
      "activation_17 (Activation)   (None, 100, 100, 32)      0         \n",
      "_________________________________________________________________\n",
      "max_pooling2d_11 (MaxPooling (None, 50, 50, 32)        0         \n",
      "_________________________________________________________________\n",
      "conv2d_12 (Conv2D)           (None, 50, 50, 64)        18496     \n",
      "_________________________________________________________________\n",
      "activation_18 (Activation)   (None, 50, 50, 64)        0         \n",
      "_________________________________________________________________\n",
      "max_pooling2d_12 (MaxPooling (None, 25, 25, 64)        0         \n",
      "_________________________________________________________________\n",
      "conv2d_13 (Conv2D)           (None, 25, 25, 64)        36928     \n",
      "_________________________________________________________________\n",
      "activation_19 (Activation)   (None, 25, 25, 64)        0         \n",
      "_________________________________________________________________\n",
      "max_pooling2d_13 (MaxPooling (None, 12, 12, 64)        0         \n",
      "_________________________________________________________________\n",
      "flatten_4 (Flatten)          (None, 9216)              0         \n",
      "_________________________________________________________________\n",
      "dense_7 (Dense)              (None, 64)                589888    \n",
      "_________________________________________________________________\n",
      "activation_20 (Activation)   (None, 64)                0         \n",
      "_________________________________________________________________\n",
      "dropout_4 (Dropout)          (None, 64)                0         \n",
      "_________________________________________________________________\n",
      "dense_8 (Dense)              (None, 5)                 325       \n",
      "_________________________________________________________________\n",
      "activation_21 (Activation)   (None, 5)                 0         \n",
      "=================================================================\n",
      "Total params: 646,533\n",
      "Trainable params: 646,533\n",
      "Non-trainable params: 0\n",
      "_________________________________________________________________\n"
     ]
    }
   ],
   "source": [
    "model.summary()"
   ]
  },
  {
   "cell_type": "code",
   "execution_count": 58,
   "metadata": {
    "collapsed": true
   },
   "outputs": [],
   "source": [
    "model.compile(loss='categorical_crossentropy',  \n",
    "              optimizer='rmsprop',\n",
    "              metrics=['accuracy'])"
   ]
  },
  {
   "cell_type": "code",
   "execution_count": 74,
   "metadata": {},
   "outputs": [
    {
     "name": "stdout",
     "output_type": "stream",
     "text": [
      "Epoch 1/5\n",
      "2569/2569 [==============================] - 75s 29ms/step - loss: 0.3053 - acc: 0.9358\n",
      "Epoch 2/5\n",
      "2569/2569 [==============================] - 72s 28ms/step - loss: 0.3033 - acc: 0.9229\n",
      "Epoch 3/5\n",
      "2569/2569 [==============================] - 69s 27ms/step - loss: 0.2375 - acc: 0.9408\n",
      "Epoch 4/5\n",
      "2569/2569 [==============================] - 71s 28ms/step - loss: 0.2372 - acc: 0.9369\n",
      "Epoch 5/5\n",
      "2569/2569 [==============================] - 73s 28ms/step - loss: 0.2693 - acc: 0.9288\n"
     ]
    }
   ],
   "source": [
    "hist=model.fit(x_train,y_train,epochs=5,shuffle=True)"
   ]
  },
  {
   "cell_type": "code",
   "execution_count": 62,
   "metadata": {},
   "outputs": [
    {
     "name": "stdout",
     "output_type": "stream",
     "text": [
      "551/551 [==============================] - 5s 9ms/step\n"
     ]
    }
   ],
   "source": [
    "test_lbl=model.predict_classes(x_test)"
   ]
  },
  {
   "cell_type": "code",
   "execution_count": 31,
   "metadata": {},
   "outputs": [
    {
     "name": "stdout",
     "output_type": "stream",
     "text": [
      "[0 2 4 3 0 4 1 1 3 3 4 0 1 0 2 1 1 1 1 1 4 1 4 0 4 3 1 0 4 1 4 4 1 1 0 3 4\n",
      " 1 1 1 0 3 1 3 3 1 2 1 1 0 0 2 1 0 4 1 1 4 1 4 4 1 1 1 3 4 4 2 2 4 2 1 1 2\n",
      " 1 0 3 4 3 1 3 0 3 0 1 0 4 1 1 3 2 1 3 1 0 1 1 3 1 1 4 1 0 3 2 0 1 1 2 2 0\n",
      " 1 2 4 1 3 1 1 0 0 1 0 3 1 1 1 3 1 2 2 0 1 2 1 4 4 2 1 3 4 0 0 2 2 1 0 1 0\n",
      " 2 3 3 1 1 4 4 0 1 0 0 1 4 2 0 3 1 1 2 4 4 4 2 3 1 1 0 0 0 1 1 3 4 1 1 2 2\n",
      " 4 1 0 0 3 2 1 4 1 0 1 4 4 1 4 1 0 0 1 4 4 0 0 1 0 4 0 4 3 2 1 3 2 1 4 1 1\n",
      " 1 4 1 1 0 1 1 1 0 1 0 2 1 1 2 0 1 2 4 1 0 4 0 4 0 3 3 4 4 3 0 1 0 4 3 3 0\n",
      " 2 4 2 0 3 2 1 4 0 4 1 1 1 1 3 4 0 0 4 0 0 3 2 1 0 1 0 0 3 3 1 1 0 3 1 0 1\n",
      " 0 0 1 1 1 2 1 2 2 1 4 4 1 1 4 0 0 1 4 4 1 1 1 2 1 0 3 4 1 4 4 0 2 1 1 0 3\n",
      " 1 3 4 4 0 4 1 1 0 1 3 0 1 4 4 3 0 1 1 1 1 4 1 3 3 0 1 1 2 1 3 0 2 2 0 4 3\n",
      " 1 1 3 4 1 4 3 4 4 1 1 0 1 2 0 1 4 0 4 4 4 0 0 0 1 1 1 2 4 0 3 0 2 0 3 0 1\n",
      " 1 1 3 3 1 0 1 1 0 4 1 2 1 1 0 2 0 3 4 2 1 4 1 1 0 1 1 1 4 3 2 1 1 4 0 1 3\n",
      " 0 3 3 1 1 3 0 4 4 4 3 3 1 3 2 4 3 0 0 1 4 1 4 2 4 1 0 0 0 3 1 2 0 2 0 3 3\n",
      " 1 3 2 1 3 1 0 2 1 3 2 3 1 3 1 1 0 0 1 1 2 2 1 3 0 2 1 1 0 0 1 1 0 3 0 3 3\n",
      " 1 4 4 4 4 1 1 1 0 1 4 4 4 4 2 0 1 3 1 0 1 2 0 2 0 3 0 1 0 1 0 1 1]\n"
     ]
    }
   ],
   "source": [
    "print(test_lbl)"
   ]
  },
  {
   "cell_type": "code",
   "execution_count": 63,
   "metadata": {
    "collapsed": true
   },
   "outputs": [],
   "source": [
    "f=open('pre.txt','w')\n",
    "for i in test_lbl:\n",
    "    f.write(str(i)+'\\n')\n",
    "    \n",
    "    "
   ]
  },
  {
   "cell_type": "code",
   "execution_count": 64,
   "metadata": {
    "collapsed": true
   },
   "outputs": [],
   "source": [
    "f.close()"
   ]
  },
  {
   "cell_type": "code",
   "execution_count": null,
   "metadata": {
    "collapsed": true
   },
   "outputs": [],
   "source": []
  }
 ],
 "metadata": {
  "kernelspec": {
   "display_name": "Python 3",
   "language": "python",
   "name": "python3"
  },
  "language_info": {
   "codemirror_mode": {
    "name": "ipython",
    "version": 3
   },
   "file_extension": ".py",
   "mimetype": "text/x-python",
   "name": "python",
   "nbconvert_exporter": "python",
   "pygments_lexer": "ipython3",
   "version": "3.6.2"
  }
 },
 "nbformat": 4,
 "nbformat_minor": 2
}
